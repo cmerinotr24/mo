{
 "cells": [
  {
   "cell_type": "code",
   "execution_count": 178,
   "metadata": {
    "collapsed": true
   },
   "outputs": [],
   "source": [
    "from scipy import optimize,arange\n",
    "from numpy import array\n",
    "import matplotlib.pyplot as plt\n",
    "%matplotlib inline\n"
   ]
  },
  {
   "cell_type": "code",
   "execution_count": 179,
   "metadata": {
    "collapsed": true
   },
   "outputs": [],
   "source": [
    "def demand(Q):\n",
    "    return 1-Q\n",
    "\n",
    "def cost(q,c):  # c is constant marginal cost\n",
    "    return c*q"
   ]
  },
  {
   "cell_type": "code",
   "execution_count": 180,
   "metadata": {},
   "outputs": [
    {
     "ename": "SyntaxError",
     "evalue": "Missing parentheses in call to 'print'. Did you mean print(output)? (<ipython-input-180-6f017fc7c228>, line 2)",
     "output_type": "error",
     "traceback": [
      "\u001b[0;36m  File \u001b[0;32m\"<ipython-input-180-6f017fc7c228>\"\u001b[0;36m, line \u001b[0;32m2\u001b[0m\n\u001b[0;31m    print output\u001b[0m\n\u001b[0m               ^\u001b[0m\n\u001b[0;31mSyntaxError\u001b[0m\u001b[0;31m:\u001b[0m Missing parentheses in call to 'print'. Did you mean print(output)?\n"
     ]
    }
   ],
   "source": [
    "output = optimize.fsolve(lambda q: 1-2*q, 0)\n",
    "print output"
   ]
  },
  {
   "cell_type": "code",
   "execution_count": 181,
   "metadata": {},
   "outputs": [
    {
     "ename": "NameError",
     "evalue": "name 'y' is not defined",
     "output_type": "error",
     "traceback": [
      "\u001b[0;31m---------------------------------------------------------------------------\u001b[0m",
      "\u001b[0;31mNameError\u001b[0m                                 Traceback (most recent call last)",
      "\u001b[0;32m<ipython-input-181-009520053b00>\u001b[0m in \u001b[0;36m<module>\u001b[0;34m()\u001b[0m\n\u001b[0;32m----> 1\u001b[0;31m \u001b[0my\u001b[0m\u001b[0;34m\u001b[0m\u001b[0m\n\u001b[0m",
      "\u001b[0;31mNameError\u001b[0m: name 'y' is not defined"
     ]
    }
   ],
   "source": [
    "y"
   ]
  },
  {
   "cell_type": "code",
   "execution_count": 182,
   "metadata": {},
   "outputs": [
    {
     "data": {
      "text/plain": [
       "1"
      ]
     },
     "execution_count": 182,
     "metadata": {},
     "output_type": "execute_result"
    }
   ],
   "source": [
    "1"
   ]
  },
  {
   "cell_type": "code",
   "execution_count": 183,
   "metadata": {},
   "outputs": [
    {
     "name": "stdout",
     "output_type": "stream",
     "text": [
      "[-4.5]\n"
     ]
    }
   ],
   "source": [
    "output = optimize.fsolve(lambda q: 1-2*q-10, 5)\n",
    "print (output)\n"
   ]
  },
  {
   "cell_type": "code",
   "execution_count": 184,
   "metadata": {},
   "outputs": [
    {
     "name": "stdout",
     "output_type": "stream",
     "text": [
      "[ 0.5]\n"
     ]
    }
   ],
   "source": [
    "output = optimize.fsolve(lambda q: 1-2*q, 0)\n",
    "print (output)"
   ]
  },
  {
   "cell_type": "code",
   "execution_count": 187,
   "metadata": {},
   "outputs": [
    {
     "name": "stdout",
     "output_type": "stream",
     "text": [
      "[ 0.49995888]\n",
      "Optimization terminated successfully.\n",
      "         Current function value: -0.250000\n",
      "         Iterations: 23\n",
      "         Function evaluations: 46\n",
      "[ 0.5]\n"
     ]
    }
   ],
   "source": [
    "def minus_profits(q,*args):         # we want to see profits as a function of q when we maximize profits or\n",
    "    return -(demand(q)*q-cost(q,c)) # minimize minus_profits; hence c is specified as \"*args\", when calling fmin\n",
    "                                    # we specify the c in the \"args=(c,)\"\n",
    "x0 = 0\n",
    "c = c = 0.0\n",
    "output = optimize.brute(minus_profits,((0.0,1.0),),args=(c,)) \n",
    "print (output)\n",
    "output = optimize.fmin(minus_profits,x0,args=(c,)) # note the comma in \"args(c,)\"; it needs to be there!\n",
    "print (output)"
   ]
  },
  {
   "cell_type": "code",
   "execution_count": 188,
   "metadata": {},
   "outputs": [
    {
     "name": "stdout",
     "output_type": "stream",
     "text": [
      "[ 0.49995888]\n"
     ]
    }
   ],
   "source": [
    "c = 0.0\n",
    "output = optimize.brute(minus_profits,((0.0,1.0),),args=(c,)) \n",
    "print (output)"
   ]
  },
  {
   "cell_type": "code",
   "execution_count": 189,
   "metadata": {
    "collapsed": true
   },
   "outputs": [],
   "source": [
    "def reaction_function(q_other,c):\n",
    "    return 0.5*(1-c-q_other)\n",
    "\n",
    "c_1 = 0.0\n",
    "c_2 = 0.0"
   ]
  },
  {
   "cell_type": "code",
   "execution_count": 190,
   "metadata": {},
   "outputs": [
    {
     "data": {
      "image/png": "[encoded data removed]",
      "text/plain": [
       "<matplotlib.figure.Figure at 0x151b3efdd8>"
      ]
     },
     "metadata": {},
     "output_type": "display_data"
    }
   ],
   "source": [
    "def reaction_function(q_other,c):\n",
    "    return 0.5*(1-c-q_other)\n",
    "\n",
    "c_1 = 0.0\n",
    "c_2 = 0.0\n",
    "\n",
    "range_q = arange(0.0,1.01,0.01)\n",
    "range_reaction_1 = [reaction_function(q_2,c_1) for q_2 in range_q]\n",
    "range_reaction_2 = [reaction_function(q_1,c_2) for q_1 in range_q]\n",
    "\n",
    "plt.clf()\n",
    "plt.plot(range_q, range_reaction_2,'-', color = 'r', linewidth = 2)\n",
    "plt.plot(range_reaction_1, range_q,'-', color = 'b', linewidth = 2)\n",
    "plt.title(\"Equilibrium\",fontsize = 15)\n",
    "plt.xlabel(\"$q_1$\",fontsize = 15)\n",
    "plt.ylabel(\"$q_2$\",fontsize = 15,rotation=90)\n",
    "plt.annotate('$R_2(q_1)$', xy=(0.6,reaction_function(0.6,c_2)),  xycoords='data', # here we define the labels and arrows in the graph\n",
    "              xytext=(30, 50), textcoords='offset points', size = 20,\n",
    "              arrowprops=dict(arrowstyle=\"->\", linewidth = 2,\n",
    "                              connectionstyle=\"arc3,rad=.2\"),\n",
    "              )\n",
    "plt.annotate('$R_1(q_2)$', xy=(reaction_function(0.6,c_1),0.6),  xycoords='data', # here we define the labels and arrows in the graph\n",
    "              xytext=(30, 50), textcoords='offset points', size = 20,\n",
    "              arrowprops=dict(arrowstyle=\"->\", linewidth = 2,\n",
    "                              connectionstyle=\"arc3,rad=.2\"),\n",
    "              )\n",
    "\n",
    "\n",
    "\n",
    "\n",
    "# plt.xlim(c,1.0)\n",
    "# plt.ylim(0.0,0.3)\n",
    "plt.savefig('cournot_equilibrium.png')"
   ]
  },
  {
   "cell_type": "code",
   "execution_count": 27,
   "metadata": {},
   "outputs": [
    {
     "data": {
      "text/plain": [
       "'/Users/cmerino'"
      ]
     },
     "execution_count": 27,
     "metadata": {},
     "output_type": "execute_result"
    }
   ],
   "source": [
    "pwd\n"
   ]
  },
  {
   "cell_type": "code",
   "execution_count": 29,
   "metadata": {},
   "outputs": [
    {
     "name": "stdout",
     "output_type": "stream",
     "text": [
      "[Errno 2] No such file or directory: '/desktop/'\n",
      "/Users/cmerino\n"
     ]
    }
   ],
   "source": [
    "cd /desktop/\n"
   ]
  },
  {
   "cell_type": "code",
   "execution_count": 30,
   "metadata": {},
   "outputs": [
    {
     "name": "stdout",
     "output_type": "stream",
     "text": [
      "\u001b[34mApplications\u001b[m\u001b[m/            Untitled12.ipynb         \u001b[34mcode\u001b[m\u001b[m/\r\n",
      "\u001b[34mBiblioteca de calibre\u001b[m\u001b[m/   Untitled13.ipynb         cournot.ipynb\r\n",
      "\u001b[34mDesktop\u001b[m\u001b[m/                 Untitled14.ipynb         cournot_equilibrium.png\r\n",
      "\u001b[34mDocuments\u001b[m\u001b[m/               Untitled15-Copy1.ipynb   ejemplo.py\r\n",
      "\u001b[34mDownloads\u001b[m\u001b[m/               Untitled15-Copy2.ipynb   example1.log\r\n",
      "Downloads\\Tablas.tex     Untitled2.ipynb          fs2000.log\r\n",
      "\u001b[34mLibrary\u001b[m\u001b[m/                 Untitled3.ipynb          gd.xls\r\n",
      "\u001b[34mMovies\u001b[m\u001b[m/                  Untitled4.ipynb          helloworld.py\r\n",
      "\u001b[34mMusic\u001b[m\u001b[m/                   Untitled5.ipynb          \u001b[34mmacports\u001b[m\u001b[m/\r\n",
      "\u001b[34mPictures\u001b[m\u001b[m/                Untitled6.ipynb          \u001b[34moctave\u001b[m\u001b[m/\r\n",
      "\u001b[34mPublic\u001b[m\u001b[m/                  Untitled7.ipynb          octave-workspace\r\n",
      "Untitled.ipynb           Untitled8.ipynb          oligopolio.ipynb\r\n",
      "Untitled1.ipynb          Untitled9.ipynb          practicarems2.xlsx\r\n",
      "Untitled10.ipynb         \u001b[34manaconda3\u001b[m\u001b[m/               spyder_crash.log\r\n",
      "Untitled11.ipynb         bkk.log\r\n"
     ]
    }
   ],
   "source": [
    "ls\n"
   ]
  },
  {
   "cell_type": "code",
   "execution_count": 31,
   "metadata": {},
   "outputs": [
    {
     "name": "stdout",
     "output_type": "stream",
     "text": [
      "/Users/cmerino/Desktop\n"
     ]
    }
   ],
   "source": [
    "cd Desktop\n"
   ]
  },
  {
   "cell_type": "code",
   "execution_count": 32,
   "metadata": {},
   "outputs": [
    {
     "name": "stdout",
     "output_type": "stream",
     "text": [
      "\u001b[34mPRUEBAS CON DYNARE\u001b[m\u001b[m/ \u001b[34mbasurilla\u001b[m\u001b[m/          \u001b[34mmultas\u001b[m\u001b[m/\r\n"
     ]
    }
   ],
   "source": [
    "ls\n"
   ]
  },
  {
   "cell_type": "code",
   "execution_count": 33,
   "metadata": {},
   "outputs": [
    {
     "name": "stdout",
     "output_type": "stream",
     "text": [
      "/Users/cmerino/Desktop/basurilla\n"
     ]
    }
   ],
   "source": [
    "cd basurilla"
   ]
  },
  {
   "cell_type": "code",
   "execution_count": 34,
   "metadata": {},
   "outputs": [
    {
     "name": "stdout",
     "output_type": "stream",
     "text": [
      "DSGEM                       duopolio.synctex.gz\r\n",
      "DSGEM  alias                duopolio.synctex.gz alias\r\n",
      "EconToolkit                 duopolio.tex\r\n",
      "EconToolkit alias           duopolio.tex alias\r\n",
      "EconToolkit.zip             duopoly.m\r\n",
      "EconToolkit.zip alias       duopoly.m alias\r\n",
      "MAX_CORE.p                  fminunc.m\r\n",
      "MAX_CORE.p alias            fminunc.m alias\r\n",
      "Readme.txt                  gamcdf.m\r\n",
      "Readme.txt alias            gamcdf.m alias\r\n",
      "Rems2_MARKUP.log            gamrnd.m\r\n",
      "Rems2_MARKUP.log alias      gamrnd.m alias\r\n",
      "borradores                  matlab_R2017b_maci64\r\n",
      "borradores  alias           matlab_R2017b_maci64 alias\r\n",
      "cdf.m                       nash.m\r\n",
      "cdf.m alias                 nash.m alias\r\n",
      "chi2cdf.m                   normcdf.m\r\n",
      "chi2cdf.m alias             normcdf.m alias\r\n",
      "cournot.jpg                 private\r\n",
      "cournot.jpg alias           private 2\r\n",
      "cournot.m                   private 2 alias\r\n",
      "cournot.m alias             private alias\r\n",
      "duopolio.aux                private.zip\r\n",
      "duopolio.aux alias          private.zip alias\r\n",
      "duopolio.log                tcdf.m\r\n",
      "duopolio.log alias          tcdf.m alias\r\n",
      "duopolio.pdf                wishrnd.m\r\n",
      "duopolio.pdf alias          wishrnd.m alias\r\n"
     ]
    }
   ],
   "source": [
    "ls\n"
   ]
  },
  {
   "cell_type": "code",
   "execution_count": 191,
   "metadata": {},
   "outputs": [
    {
     "data": {
      "image/png": "[encoded data removed]",
      "text/plain": [
       "<matplotlib.figure.Figure at 0x11a140ac8>"
      ]
     },
     "metadata": {},
     "output_type": "display_data"
    }
   ],
   "source": [
    "def minus_duopoly_profits(q,q_other,c):\n",
    "    return -(demand(q+q_other)*q-cost(q,c)) \n",
    "\n",
    "\n",
    "def new_reaction_function(q_other,c):\n",
    "    x0 = 0\n",
    "    output = optimize.fmin(lambda q: minus_duopoly_profits(q,q_other,c),x0,disp = False) # disp = False reduces \n",
    "    return output[0]                                                                     # the output of the routine\n",
    "                                                                                         # disp = True shows the difference\n",
    "c_1 = 0.0\n",
    "c_2 = 0.0\n",
    "\n",
    "range_q = arange(0.0,1.01,0.01)\n",
    "range_reaction_1 = [new_reaction_function(q_2,c_1) for q_2 in range_q]\n",
    "range_reaction_2 = [new_reaction_function(q_1,c_2) for q_1 in range_q]\n",
    "\n",
    "plt.clf()\n",
    "plt.plot(range_q, range_reaction_2,'-', color = 'r', linewidth = 2)\n",
    "plt.plot(range_reaction_1, range_q,'-', color = 'b', linewidth = 2)\n",
    "plt.title(\"Equilibrium\",fontsize = 15)\n",
    "plt.xlabel(\"$q_1$\",fontsize = 15)\n",
    "plt.ylabel(\"$q_2$\",fontsize = 15,rotation = 90)\n",
    "plt.annotate('$R_2(q_1)$', xy=(0.6,reaction_function(0.6,c_2)),  xycoords='data', # here we define the labels and arrows in the graph\n",
    "              xytext=(30, 50), textcoords='offset points', size = 20,\n",
    "              arrowprops=dict(arrowstyle=\"->\", linewidth = 2,\n",
    "                              connectionstyle=\"arc3,rad=.2\"),\n",
    "              )\n",
    "plt.annotate('$R_1(q_2)$', xy=(reaction_function(0.6,c_1),0.6),  xycoords='data', # here we define the labels and arrows in the graph\n",
    "              xytext=(30, 50), textcoords='offset points', size = 20,\n",
    "              arrowprops=dict(arrowstyle=\"->\", linewidth = 2,\n",
    "                              connectionstyle=\"arc3,rad=.2\"),\n",
    "              )\n",
    "\n",
    "\n",
    "\n",
    "\n",
    "# plt.xlim(c,1.0)\n",
    "# plt.ylim(0.0,0.3)\n",
    "plt.savefig('cournot_equilibrium2.png')"
   ]
  },
  {
   "cell_type": "code",
   "execution_count": 192,
   "metadata": {
    "collapsed": true
   },
   "outputs": [],
   "source": [
    "def vector_reaction_function(q,c): # q is a vector (or list in python) here\n",
    "    x0 = 0\n",
    "    output_1 = optimize.fmin(lambda q1: minus_duopoly_profits(q1,q[1],c[0]),x0)\n",
    "    output_2 = optimize.fmin(lambda q2: minus_duopoly_profits(q2,q[0],c[1]),x0)\n",
    "    return [output_1[0],output_2[0]]   "
   ]
  },
  {
   "cell_type": "code",
   "execution_count": 40,
   "metadata": {},
   "outputs": [
    {
     "name": "stdout",
     "output_type": "stream",
     "text": [
      "Optimization terminated successfully.\n",
      "         Current function value: -0.250000\n",
      "         Iterations: 23\n",
      "         Function evaluations: 46\n",
      "Optimization terminated successfully.\n",
      "         Current function value: -0.250000\n",
      "         Iterations: 23\n",
      "         Function evaluations: 46\n",
      "Optimization terminated successfully.\n",
      "         Current function value: -0.250000\n",
      "         Iterations: 23\n",
      "         Function evaluations: 46\n",
      "Optimization terminated successfully.\n",
      "         Current function value: -0.250000\n",
      "         Iterations: 23\n",
      "         Function evaluations: 46\n",
      "Optimization terminated successfully.\n",
      "         Current function value: -0.250000\n",
      "         Iterations: 23\n",
      "         Function evaluations: 46\n",
      "Optimization terminated successfully.\n",
      "         Current function value: -0.250000\n",
      "         Iterations: 23\n",
      "         Function evaluations: 46\n",
      "Optimization terminated successfully.\n",
      "         Current function value: -0.250000\n",
      "         Iterations: 23\n",
      "         Function evaluations: 46\n",
      "Optimization terminated successfully.\n",
      "         Current function value: -0.250000\n",
      "         Iterations: 23\n",
      "         Function evaluations: 46\n",
      "Optimization terminated successfully.\n",
      "         Current function value: -0.250000\n",
      "         Iterations: 23\n",
      "         Function evaluations: 46\n",
      "Optimization terminated successfully.\n",
      "         Current function value: -0.250000\n",
      "         Iterations: 23\n",
      "         Function evaluations: 46\n",
      "Optimization terminated successfully.\n",
      "         Current function value: -0.062500\n",
      "         Iterations: 21\n",
      "         Function evaluations: 42\n",
      "Optimization terminated successfully.\n",
      "         Current function value: -0.062500\n",
      "         Iterations: 21\n",
      "         Function evaluations: 42\n",
      "Optimization terminated successfully.\n",
      "         Current function value: -0.111111\n",
      "         Iterations: 22\n",
      "         Function evaluations: 44\n",
      "Optimization terminated successfully.\n",
      "         Current function value: -0.111111\n",
      "         Iterations: 22\n",
      "         Function evaluations: 44\n",
      "Optimization terminated successfully.\n",
      "         Current function value: -0.111116\n",
      "         Iterations: 22\n",
      "         Function evaluations: 44\n",
      "Optimization terminated successfully.\n",
      "         Current function value: -0.111116\n",
      "         Iterations: 22\n",
      "         Function evaluations: 44\n",
      "Optimization terminated successfully.\n",
      "         Current function value: -0.111118\n",
      "         Iterations: 22\n",
      "         Function evaluations: 44\n",
      "Optimization terminated successfully.\n",
      "         Current function value: -0.111118\n",
      "         Iterations: 22\n",
      "         Function evaluations: 44\n"
     ]
    },
    {
     "data": {
      "text/plain": [
       "array([ 0.3333125,  0.3333125])"
      ]
     },
     "execution_count": 40,
     "metadata": {},
     "output_type": "execute_result"
    }
   ],
   "source": [
    "c = [0.0,0.0]\n",
    "optimize.fsolve(lambda q: q-vector_reaction_function(q,c), [0,0])"
   ]
  },
  {
   "cell_type": "code",
   "execution_count": 193,
   "metadata": {
    "collapsed": true
   },
   "outputs": [],
   "source": [
    "def n_reaction_function(q,c): # q is a vector (or list in python) here\n",
    "    n = len(q) # number of firms\n",
    "    firms = range(n) # create a list with n firm identities (0,1,...,n-1)\n",
    "    x0 = 0 # initial guess for a firm's optimal output level --given what the others do\n",
    "    total_output = sum(q)\n",
    "    output = [] # we create an empty list of optimal reactions `output`, and add the optimal reaction of each firm to it\n",
    "    for firm in firms: # we use the duopoly profits with q_other = \\sum_{j \\neq i} q_j = \\sum_{j} q_j - q_i\n",
    "        output.append(optimize.fmin(lambda x: minus_duopoly_profits(x,total_output-q[firm],c[firm]),x0,disp = False)[0])\n",
    "    return output"
   ]
  },
  {
   "cell_type": "code",
   "execution_count": 194,
   "metadata": {},
   "outputs": [
    {
     "data": {
      "text/plain": [
       "array([ 0.2,  0.2,  0.2,  0.2])"
      ]
     },
     "execution_count": 194,
     "metadata": {},
     "output_type": "execute_result"
    }
   ],
   "source": [
    "c = [0.0,0.0,0.0,0.0] # consider the case with 4 firms in the market each with c = 0\n",
    "optimize.fsolve(lambda q: q-n_reaction_function(q,c), [0,0,0,0])"
   ]
  },
  {
   "cell_type": "code",
   "execution_count": 195,
   "metadata": {},
   "outputs": [
    {
     "ename": "NameError",
     "evalue": "name 'total_output' is not defined",
     "output_type": "error",
     "traceback": [
      "\u001b[0;31m---------------------------------------------------------------------------\u001b[0m",
      "\u001b[0;31mNameError\u001b[0m                                 Traceback (most recent call last)",
      "\u001b[0;32m<ipython-input-195-8cd1a66008dc>\u001b[0m in \u001b[0;36m<module>\u001b[0;34m()\u001b[0m\n\u001b[0;32m----> 1\u001b[0;31m \u001b[0mtotal_output\u001b[0m\u001b[0;34m\u001b[0m\u001b[0m\n\u001b[0m",
      "\u001b[0;31mNameError\u001b[0m: name 'total_output' is not defined"
     ]
    }
   ],
   "source": [
    "total_output"
   ]
  },
  {
   "cell_type": "code",
   "execution_count": 196,
   "metadata": {},
   "outputs": [
    {
     "data": {
      "text/plain": [
       "array([ 0.49995888])"
      ]
     },
     "execution_count": 196,
     "metadata": {},
     "output_type": "execute_result"
    }
   ],
   "source": [
    "output"
   ]
  },
  {
   "cell_type": "markdown",
   "metadata": {},
   "source": [
    "x^2+14*y-pi"
   ]
  },
  {
   "cell_type": "code",
   "execution_count": 197,
   "metadata": {},
   "outputs": [
    {
     "data": {
      "text/plain": [
       "2"
      ]
     },
     "execution_count": 197,
     "metadata": {},
     "output_type": "execute_result"
    }
   ],
   "source": [
    "2*x"
   ]
  },
  {
   "cell_type": "markdown",
   "metadata": {},
   "source": [
    "x^2"
   ]
  },
  {
   "cell_type": "markdown",
   "metadata": {},
   "source": [
    "10**100"
   ]
  },
  {
   "cell_type": "markdown",
   "metadata": {},
   "source": [
    "10**10"
   ]
  },
  {
   "cell_type": "code",
   "execution_count": 198,
   "metadata": {
    "collapsed": true
   },
   "outputs": [],
   "source": [
    "import matplotlib.pyplot as plt\n",
    "%matplotlib inline"
   ]
  },
  {
   "cell_type": "code",
   "execution_count": 199,
   "metadata": {
    "collapsed": true
   },
   "outputs": [],
   "source": [
    "def my_first_function(x):\n",
    "    n=10\n",
    "    return x**n"
   ]
  },
  {
   "cell_type": "code",
   "execution_count": 200,
   "metadata": {
    "collapsed": true
   },
   "outputs": [],
   "source": [
    "x=1"
   ]
  },
  {
   "cell_type": "code",
   "execution_count": 201,
   "metadata": {},
   "outputs": [
    {
     "data": {
      "text/plain": [
       "2"
      ]
     },
     "execution_count": 201,
     "metadata": {},
     "output_type": "execute_result"
    }
   ],
   "source": [
    "2"
   ]
  },
  {
   "cell_type": "code",
   "execution_count": 205,
   "metadata": {},
   "outputs": [
    {
     "name": "stdout",
     "output_type": "stream",
     "text": [
      "[ -2.00000000e+00  -1.90000000e+00  -1.80000000e+00  -1.70000000e+00\n",
      "  -1.60000000e+00  -1.50000000e+00  -1.40000000e+00  -1.30000000e+00\n",
      "  -1.20000000e+00  -1.10000000e+00  -1.00000000e+00  -9.00000000e-01\n",
      "  -8.00000000e-01  -7.00000000e-01  -6.00000000e-01  -5.00000000e-01\n",
      "  -4.00000000e-01  -3.00000000e-01  -2.00000000e-01  -1.00000000e-01\n",
      "   1.77635684e-15   1.00000000e-01   2.00000000e-01   3.00000000e-01\n",
      "   4.00000000e-01   5.00000000e-01   6.00000000e-01   7.00000000e-01\n",
      "   8.00000000e-01   9.00000000e-01   1.00000000e+00   1.10000000e+00\n",
      "   1.20000000e+00   1.30000000e+00   1.40000000e+00   1.50000000e+00\n",
      "   1.60000000e+00   1.70000000e+00   1.80000000e+00   1.90000000e+00\n",
      "   2.00000000e+00]\n"
     ]
    }
   ],
   "source": [
    "my_first_function(90)\n",
    "from scipy import arange\n",
    "\n",
    "range_x = arange(-2.0,2.1,0.1)\n",
    "print (range_x)"
   ]
  },
  {
   "cell_type": "code",
   "execution_count": 59,
   "metadata": {},
   "outputs": [
    {
     "name": "stdout",
     "output_type": "stream",
     "text": [
      "[ -2.00000000e+00  -1.90000000e+00  -1.80000000e+00  -1.70000000e+00\n",
      "  -1.60000000e+00  -1.50000000e+00  -1.40000000e+00  -1.30000000e+00\n",
      "  -1.20000000e+00  -1.10000000e+00  -1.00000000e+00  -9.00000000e-01\n",
      "  -8.00000000e-01  -7.00000000e-01  -6.00000000e-01  -5.00000000e-01\n",
      "  -4.00000000e-01  -3.00000000e-01  -2.00000000e-01  -1.00000000e-01\n",
      "   1.77635684e-15   1.00000000e-01   2.00000000e-01   3.00000000e-01\n",
      "   4.00000000e-01   5.00000000e-01   6.00000000e-01   7.00000000e-01\n",
      "   8.00000000e-01   9.00000000e-01   1.00000000e+00   1.10000000e+00\n",
      "   1.20000000e+00   1.30000000e+00   1.40000000e+00   1.50000000e+00\n",
      "   1.60000000e+00   1.70000000e+00   1.80000000e+00   1.90000000e+00\n",
      "   2.00000000e+00]\n"
     ]
    }
   ],
   "source": [
    "from scipy import arange\n",
    "\n",
    "range_x = arange(-2.0,2.1,0.1)\n",
    "print (range_x)"
   ]
  },
  {
   "cell_type": "code",
   "execution_count": 60,
   "metadata": {},
   "outputs": [
    {
     "name": "stdout",
     "output_type": "stream",
     "text": [
      "Object `plot` not found.\n"
     ]
    }
   ],
   "source": [
    "plot?"
   ]
  },
  {
   "cell_type": "code",
   "execution_count": 206,
   "metadata": {},
   "outputs": [
    {
     "ename": "SyntaxError",
     "evalue": "invalid syntax (<ipython-input-206-e329faa5df29>, line 2)",
     "output_type": "error",
     "traceback": [
      "\u001b[0;36m  File \u001b[0;32m\"<ipython-input-206-e329faa5df29>\"\u001b[0;36m, line \u001b[0;32m2\u001b[0m\n\u001b[0;31m    print (range_y)lt.clf() # starts a new graph\u001b[0m\n\u001b[0m                    ^\u001b[0m\n\u001b[0;31mSyntaxError\u001b[0m\u001b[0;31m:\u001b[0m invalid syntax\n"
     ]
    }
   ],
   "source": [
    "range_y = [my_first_function(x) for x in range_x]\n",
    "print (range_y)lt.clf() # starts a new graph\n",
    "plt.plot(range_x, range_y,'-', color = 'b', linewidth = 2) # play around with colors like 'r', or styles like '--'\n",
    "plt.title(\"Parabola\",fontsize = 15)\n",
    "plt.xlabel(\"$x$\",fontsize = 15)\n",
    "plt.ylabel(\"$y$\",fontsize = 15)\n",
    "plt.xlim(-2.0,2.0)\n",
    "plt.ylim(0.0,4.0)\n",
    "plt.annotate('$y=x^2$', xy=(1.0,my_first_function(1.0)),  xycoords='data',\n",
    "              xytext=(-60, 60), textcoords='offset points', size = 20,\n",
    "              arrowprops=dict(arrowstyle=\"->\", linewidth = 2,\n",
    "                              connectionstyle=\"arc3,rad=.2\"),\n",
    "              )\n",
    "\n",
    "plt.savefig('my_first_graph.png')"
   ]
  },
  {
   "cell_type": "code",
   "execution_count": 207,
   "metadata": {},
   "outputs": [
    {
     "data": {
      "image/png": "[encoded data removed]",
      "text/plain": [
       "<matplotlib.figure.Figure at 0x151b7b5240>"
      ]
     },
     "metadata": {},
     "output_type": "display_data"
    }
   ],
   "source": [
    "plt.clf() # starts a new graph\n",
    "plt.plot(range_x, range_y,'--', color = 'b', linewidth = 4) # play around with colors like 'r', or styles like '--'\n",
    "plt.title(\"Parabola\",fontsize = 25)\n",
    "plt.xlabel(\"$x$\",fontsize = 15)\n",
    "plt.ylabel(\"$y$\",fontsize = 15)\n",
    "plt.xlim(-2.0,2.0)\n",
    "plt.ylim(0.0,4.0)\n",
    "plt.annotate('$y=x^2$', xy=(1.0,my_first_function(1.0)),  xycoords='data',\n",
    "              xytext=(-90, 60), textcoords='offset points', size = 30,\n",
    "              arrowprops=dict(arrowstyle=\"->\", linewidth = 6,\n",
    "                              connectionstyle=\"arc3,rad=.2\"),\n",
    "              )\n",
    "\n",
    "plt.savefig('my_first_graph.png')"
   ]
  },
  {
   "cell_type": "raw",
   "metadata": {},
   "source": [
    "cournot\n",
    "\n"
   ]
  },
  {
   "cell_type": "code",
   "execution_count": 208,
   "metadata": {
    "collapsed": true
   },
   "outputs": [],
   "source": [
    "from scipy import optimize,arange\n",
    "from numpy import array\n",
    "import matplotlib.pyplot as plt\n",
    "%matplotlib inline"
   ]
  },
  {
   "cell_type": "code",
   "execution_count": 209,
   "metadata": {
    "collapsed": true
   },
   "outputs": [],
   "source": [
    "def demand(x1,x2,b):\n",
    "    return 1-x1-b*x2\n",
    "\n",
    "def cost(x,c):\n",
    "    if x == 0:\n",
    "     cost = 0\n",
    "    else:\n",
    "     cost = c*x\n",
    "    return cost"
   ]
  },
  {
   "cell_type": "code",
   "execution_count": 210,
   "metadata": {
    "collapsed": true
   },
   "outputs": [],
   "source": [
    "def profit(x1,x2,c1,b):\n",
    "    return demand(x1,x2,b)*x1-cost(x1,c1)"
   ]
  },
  {
   "cell_type": "code",
   "execution_count": 211,
   "metadata": {
    "collapsed": true
   },
   "outputs": [],
   "source": [
    "def reaction(x2,c1,b):\n",
    "    x1 = optimize.brute(lambda x: -profit(x,x2,c1,b), ((0,1,),)) # brute minimizes the function;\n",
    "                                                                 # when we minimize -profits, we maximize profits\n",
    "    return x1[0]"
   ]
  },
  {
   "cell_type": "code",
   "execution_count": 212,
   "metadata": {
    "collapsed": true
   },
   "outputs": [],
   "source": [
    "def vector_reaction(x,param): # vector param = (b,c1,c2)\n",
    "    return array(x)-array([reaction(x[1],param[1],param[0]),reaction(x[0],param[2],param[0])])"
   ]
  },
  {
   "cell_type": "code",
   "execution_count": 213,
   "metadata": {},
   "outputs": [
    {
     "name": "stdout",
     "output_type": "stream",
     "text": [
      "[ 0.33332648  0.33332648]\n"
     ]
    }
   ],
   "source": [
    "param = [1.0,0.0,0.0]\n",
    "x0 = [0.3, 0.3]\n",
    "\n",
    "ans = optimize.fsolve(vector_reaction, x0, args = (param))\n",
    "print (ans)"
   ]
  },
  {
   "cell_type": "code",
   "execution_count": 214,
   "metadata": {},
   "outputs": [],
   "source": [
    "def collusion_profits(x,b,c,delta): # we only do this for the symmetric case: c1 = c2 = c\n",
    "    profits = profit(x,x,c,b)\n",
    "    ans = optimize.fsolve(vector_reaction, x0, args = ([b,c,c]))\n",
    "    if profits >= (1-delta)*profit(reaction(x,c,b),x,c,b)+delta*profit(ans[0],ans[1],c,b):\n",
    "        industry_profits = 2*profits # profits can be sustained as collusion profits\n",
    "    else:\n",
    "        industry_profits = 0 # profits cannot be sustained as collusion profits\n",
    "    return industry_profits"
   ]
  },
  {
   "cell_type": "code",
   "execution_count": 215,
   "metadata": {},
   "outputs": [
    {
     "data": {
      "image/png": "[encoded data removed]",
      "text/plain": [
       "<matplotlib.figure.Figure at 0x119fc0668>"
      ]
     },
     "metadata": {},
     "output_type": "display_data"
    }
   ],
   "source": [
    "range_x = arange(0.25,ans[0],0.01)\n",
    "delta1 = 0.8\n",
    "delta2 = 0.3\n",
    "range_profits = [collusion_profits(x,1.0,0.0,delta1) for x in range_x]\n",
    "range_profits2 = [collusion_profits(x,1.0,0.0,delta2) for x in range_x]\n",
    "\n",
    "plt.clf()\n",
    " \n",
    "plt.plot(range_x, range_profits,'-', color = 'r', linewidth = 2)\n",
    "plt.plot(range_x, range_profits2,'-', color = 'b', linewidth = 2)\n",
    "plt.title(\"Collusion profits\",fontsize = 15)\n",
    "plt.xlabel(\"output\",fontsize = 15)\n",
    "plt.ylabel(\"profits\",fontsize = 15,rotation = 90)\n",
    "plt.xlim(0.25,0.33)\n",
    "plt.ylim(0.0,0.3)\n",
    "plt.savefig('collusion.png')"
   ]
  },
  {
   "cell_type": "markdown",
   "metadata": {},
   "source": [
    "bertrand"
   ]
  },
  {
   "cell_type": "code",
   "execution_count": 216,
   "metadata": {
    "collapsed": true
   },
   "outputs": [],
   "source": [
    "def u(p,n): # utility for consumer who values good at n\n",
    "    return n-p\n",
    "\n",
    "consumer_types = arange(0.0,1.01,0.01) # 100 consumers with n varying between 0 and 1\n",
    "\n",
    "def buy(p,n):\n",
    "    if u(p,n) >= 0:\n",
    "        buy = 1.0\n",
    "    else:\n",
    "        buy = 0.0\n",
    "    return buy\n",
    "\n",
    "def total_demand(p): # total demand equals the sum of demands of consumers n for all consumer_types\n",
    "    demand_vector = [buy(p,n)/len(consumer_types) for n in consumer_types]\n",
    "    return sum(demand_vector)"
   ]
  },
  {
   "cell_type": "code",
   "execution_count": 217,
   "metadata": {
    "collapsed": true
   },
   "outputs": [],
   "source": [
    "def profit(p1,p2,c1):\n",
    "    if p1 > p2:\n",
    "        profits = 0\n",
    "    elif p1 == p2:\n",
    "        profits = 0.5*total_demand(p1)*(p1-c1)\n",
    "    else:\n",
    "        profits = total_demand(p1)*(p1-c1)\n",
    "    return profits\n",
    "\n",
    "def reaction(p2,c1):\n",
    "    if p2 > c1:\n",
    "        reaction = c1+0.8*(p2-c1)\n",
    "    else:\n",
    "        reaction = c1\n",
    "    return reaction"
   ]
  },
  {
   "cell_type": "code",
   "execution_count": 218,
   "metadata": {},
   "outputs": [
    {
     "name": "stdout",
     "output_type": "stream",
     "text": [
      "[  4.94065646e-324   4.94065646e-324]\n"
     ]
    }
   ],
   "source": [
    "def vector_reaction(p,param): # vector param = (c1,c2)\n",
    "    return array(p)-array([reaction(p[1],param[0]),reaction(p[0],param[1])])\n",
    "\n",
    "param = [0.0,0.0] # c1 = c2 =0\n",
    "p0 = [0.5, 0.5] # initial guess: p1 = p2 = 0.5\n",
    "\n",
    "ans = optimize.fsolve(vector_reaction, p0, args = (param))\n",
    "print (ans)"
   ]
  },
  {
   "cell_type": "code",
   "execution_count": 219,
   "metadata": {
    "collapsed": true
   },
   "outputs": [],
   "source": [
    "def collusion_profits(p,c,delta): # we only do this for the symmetric case: c1 = c2 = c\n",
    "    profits = profit(p,p,c)\n",
    "    ans = optimize.fsolve(vector_reaction, p0, args = ([c,c]))\n",
    "    if profits >= (1-delta)*2*profits+delta*profit(ans[0],ans[1],c):\n",
    "        industry_profits = 2*profits\n",
    "    else:\n",
    "        industry_profits = 0\n",
    "    return industry_profits"
   ]
  },
  {
   "cell_type": "code",
   "execution_count": 232,
   "metadata": {},
   "outputs": [
    {
     "data": {
      "image/png": "[encoded data removed]",
      "text/plain": [
       "<matplotlib.figure.Figure at 0x151b628278>"
      ]
     },
     "metadata": {},
     "output_type": "display_data"
    }
   ],
   "source": [
    "c = 0.2\n",
    "range_p = arange(0.0,1.01,0.01)\n",
    "delta1 = 0.8\n",
    "delta2 = 0.2\n",
    "\n",
    "range_profits = [collusion_profits(p,c,delta1) for p in range_p]\n",
    "range_profits_2 = [collusion_profits(p,c,delta2) for p in range_p]\n",
    "\n",
    "plt.clf()\n",
    "plt.plot(range_p, range_profits,'-', color = 'r', linewidth = 2)\n",
    "plt.plot(range_p, range_profits_2,'-', color = 'b', linewidth = 2)\n",
    "plt.title(\"Collusion profits\",fontsize = 15)\n",
    "plt.xlabel(\"price\",fontsize = 15)\n",
    "plt.ylabel(\"profits\",fontsize = 15,rotation = 90)\n",
    "plt.xlim(c,1.0)\n",
    "plt.ylim(0.0,0.2)\n",
    "plt.savefig('collusion_Bertrand.png')"
   ]
  },
  {
   "cell_type": "code",
   "execution_count": 227,
   "metadata": {},
   "outputs": [
    {
     "data": {
      "image/png": "[encoded data removed]",
      "text/plain": [
       "<matplotlib.figure.Figure at 0x151b4d4828>"
      ]
     },
     "metadata": {},
     "output_type": "display_data"
    }
   ],
   "source": [
    "def welfare(p):\n",
    "    welfare = sum([u(c,n)*buy(p,n)/len(consumer_types) for n in consumer_types])\n",
    "    return welfare\n",
    "\n",
    "range_welfare = [welfare(p) for p in range_p]\n",
    "\n",
    "plt.clf()\n",
    " \n",
    "plt.plot(range_p, range_welfare,'*', color = 'r', linewidth = 2)\n",
    "plt.title(\"Welfare\",fontsize = 15)\n",
    "plt.xlabel(\"$p$\",fontsize = 15)\n",
    "plt.ylabel(\"$W$\",fontsize = 15)\n",
    "plt.xlim(0.0,1.0)\n",
    "plt.savefig('welfare.png')"
   ]
  },
  {
   "cell_type": "markdown",
   "metadata": {},
   "source": [
    "simulación de concentraciones\n"
   ]
  },
  {
   "cell_type": "code",
   "execution_count": 244,
   "metadata": {},
   "outputs": [],
   "source": [
    "class ListTable(list):\n",
    "    \"\"\" Overridden list class which takes a 2-dimensional list of\n",
    "        the form [[1,2,3],[4,5,6]], and renders an HTML Table in\n",
    "        IPython Notebook. \"\"\"\n",
    "\n",
    "    def _repr_html_(self):\n",
    "        html = [\"<table>\"]\n",
    "        for row in self:\n",
    "            html.append(\"<tr>\")\n",
    "\n",
    "            for col in row:\n",
    "                html.append(\"<td>{0}</td>\".format(col))\n",
    "\n",
    "            html.append(\"</tr>\")\n",
    "        html.append(\"</table>\")\n",
    "        return ''.join(html)\n",
    "from scipy import optimize,arange\n",
    "from numpy import array\n",
    "import matplotlib.pyplot as plt\n",
    "from math import log\n",
    "%matplotlib inline"
   ]
  },
  {
   "cell_type": "code",
   "execution_count": 253,
   "metadata": {},
   "outputs": [
    {
     "name": "stdout",
     "output_type": "stream",
     "text": [
      "market share of firm: firm1 is given by 0.20\n",
      "market share of firm: firm2 is given by 0.30\n",
      "market share of firm: firm3 is given by 0.50\n"
     ]
    }
   ],
   "source": [
    "market_share = {} # creates a dictionary with market shares\n",
    "elasticity = {}   # dictionaries of firm level own and cross elasticities\n",
    "\n",
    "firms = ['firm1','firm2','firm3'] # names of the firms in a python list\n",
    "market_share['firm2'] = 0.3\n",
    "market_share['firm3'] = 0.5\n",
    "market_share['firm1'] = 1 - sum(market_share[firm] for firm in ['firm2','firm3'])\n",
    "\n",
    "for firm in firms:\n",
    "    if (market_share[firm] >= 0 and market_share[firm] <= 1):\n",
    "        print (\"market share of firm: \" +firm+  \" is given by %1.2f\" % market_share[firm])\n",
    "    else: print (\"something wrong with the market share of the firm: \")+firm\n",
    "\n",
    "market_elasticity = -1.0 # market demand elasticity\n",
    "elasticity['firm1','firm1'] = -3.0 # own elasticity of firm1\n",
    "\n",
    "if market_elasticity < elasticity['firm1','firm1']:\n",
    "    print (\"error: the market elasticity exceeds (in absolute value) a firm's own elasticity\")"
   ]
  },
  {
   "cell_type": "code",
   "execution_count": 235,
   "metadata": {},
   "outputs": [
    {
     "ename": "KeyError",
     "evalue": "('firm2', 'firm2')",
     "output_type": "error",
     "traceback": [
      "\u001b[0;31m---------------------------------------------------------------------------\u001b[0m",
      "\u001b[0;31mKeyError\u001b[0m                                  Traceback (most recent call last)",
      "\u001b[0;32m<ipython-input-235-86c1f3b94015>\u001b[0m in \u001b[0;36m<module>\u001b[0;34m()\u001b[0m\n\u001b[1;32m      1\u001b[0m \u001b[0mmargin\u001b[0m \u001b[0;34m=\u001b[0m \u001b[0;34m{\u001b[0m\u001b[0;34m}\u001b[0m\u001b[0;34m\u001b[0m\u001b[0m\n\u001b[1;32m      2\u001b[0m \u001b[0;32mfor\u001b[0m \u001b[0mfirm\u001b[0m \u001b[0;32min\u001b[0m \u001b[0mfirms\u001b[0m\u001b[0;34m:\u001b[0m\u001b[0;34m\u001b[0m\u001b[0m\n\u001b[0;32m----> 3\u001b[0;31m     \u001b[0mmargin\u001b[0m\u001b[0;34m[\u001b[0m\u001b[0mfirm\u001b[0m\u001b[0;34m]\u001b[0m \u001b[0;34m=\u001b[0m \u001b[0;34m-\u001b[0m\u001b[0;36m1.0\u001b[0m\u001b[0;34m/\u001b[0m\u001b[0melasticity\u001b[0m\u001b[0;34m[\u001b[0m\u001b[0mfirm\u001b[0m\u001b[0;34m,\u001b[0m\u001b[0mfirm\u001b[0m\u001b[0;34m]\u001b[0m\u001b[0;34m\u001b[0m\u001b[0m\n\u001b[0m",
      "\u001b[0;31mKeyError\u001b[0m: ('firm2', 'firm2')"
     ]
    }
   ],
   "source": [
    "margin = {}\n",
    "for firm in firms:\n",
    "    margin[firm] = -1.0/elasticity[firm,firm]\n"
   ]
  },
  {
   "cell_type": "code",
   "execution_count": 236,
   "metadata": {},
   "outputs": [
    {
     "ename": "SyntaxError",
     "evalue": "Missing parentheses in call to 'print'. Did you mean print(\"market share of firm: \"+ firm + \" is given by %1.2f\" % market_share[firm])? (<ipython-input-236-32e8cda11c1a>, line 1)",
     "output_type": "error",
     "traceback": [
      "\u001b[0;36m  File \u001b[0;32m\"<ipython-input-236-32e8cda11c1a>\"\u001b[0;36m, line \u001b[0;32m1\u001b[0m\n\u001b[0;31m    print \"market share of firm: \"+ firm + \" is given by %1.2f\" % market_share[firm]\u001b[0m\n\u001b[0m                                 ^\u001b[0m\n\u001b[0;31mSyntaxError\u001b[0m\u001b[0;31m:\u001b[0m Missing parentheses in call to 'print'. Did you mean print(\"market share of firm: \"+ firm + \" is given by %1.2f\" % market_share[firm])?\n"
     ]
    }
   ],
   "source": [
    "print \"market share of firm: \"+ firm + \" is given by %1.2f\" % market_share[firm]"
   ]
  },
  {
   "cell_type": "code",
   "execution_count": 237,
   "metadata": {},
   "outputs": [
    {
     "name": "stdout",
     "output_type": "stream",
     "text": [
      "market share of firm: firm2 is given by 0.30\n"
     ]
    }
   ],
   "source": [
    "print(\"market share of firm: \"+ firm + \" is given by %1.2f\" % market_share[firm])"
   ]
  },
  {
   "cell_type": "code",
   "execution_count": 254,
   "metadata": {},
   "outputs": [
    {
     "name": "stdout",
     "output_type": "stream",
     "text": [
      "table of b coefficients:\n"
     ]
    },
    {
     "data": {
      "text/html": [
       "<table><tr><td>b-coeff.</td><td>firm1</td><td>firm2</td><td>firm3</td></tr><tr><td>firm1</td><td>-0.400</td><td>0.150</td><td>0.250</td></tr><tr><td>firm2</td><td>0.150</td><td>-0.525</td><td>0.375</td></tr><tr><td>firm3</td><td>0.250</td><td>0.375</td><td>-0.625</td></tr></table>"
      ],
      "text/plain": [
       "[['b-coeff.', 'firm1', 'firm2', 'firm3'],\n",
       " ['firm1', '-0.400', '0.150', '0.250'],\n",
       " ['firm2', '0.150', '-0.525', '0.375'],\n",
       " ['firm3', '0.250', '0.375', '-0.625']]"
      ]
     },
     "execution_count": 254,
     "metadata": {},
     "output_type": "execute_result"
    }
   ],
   "source": [
    "b = {} # dictionary of b-coefficients of demand system (D) above \n",
    "b['firm1','firm1'] = market_share['firm1']*(elasticity['firm1','firm1']+1-market_share['firm1']*(market_elasticity+1))\n",
    "\n",
    "for firm in firms:\n",
    "    b[firm,firm]=(market_share[firm]*(1-market_share[firm]))/(market_share['firm1']*(1-market_share['firm1']))*b['firm1','firm1']\n",
    "\n",
    "for one_firm in firms:\n",
    "    for other_firm in firms:\n",
    "        if one_firm == other_firm:\n",
    "            b[one_firm,one_firm]=(market_share[one_firm]*(1-market_share[one_firm]))/(market_share['firm1']*(1-market_share['firm1']))*b['firm1','firm1']\n",
    "        else:\n",
    "            b[one_firm,other_firm] = - market_share[one_firm]/(1-market_share[other_firm])*b[other_firm,other_firm]\n",
    "            \n",
    "for one_firm in firms:\n",
    "    for other_firm in firms:\n",
    "        if one_firm == other_firm:\n",
    "            elasticity[one_firm,one_firm] = -1 + b[one_firm,one_firm]/market_share[one_firm]+market_share[one_firm]*(market_elasticity+1)\n",
    "        else:\n",
    "            elasticity[one_firm,other_firm] = b[one_firm,other_firm]/market_share[one_firm]+market_share[other_firm]*(market_elasticity+1)\n",
    "\n",
    "table = ListTable()\n",
    "table.append(['b-coeff.', 'firm1','firm2','firm3'])\n",
    "for one_firm in firms:\n",
    "    row = []\n",
    "    row.append(one_firm)\n",
    "    for other_firm in firms:\n",
    "        row.append(\"%0.3f\" % b[one_firm,other_firm])\n",
    "    table.append(row)\n",
    "print (\"table of b coefficients:\")\n",
    "table"
   ]
  },
  {
   "cell_type": "code",
   "execution_count": 255,
   "metadata": {},
   "outputs": [
    {
     "name": "stdout",
     "output_type": "stream",
     "text": [
      "table of elasticities:\n"
     ]
    },
    {
     "data": {
      "text/html": [
       "<table><tr><td>elast.</td><td>firm1</td><td>firm2</td><td>firm3</td></tr><tr><td>firm1</td><td>-3.000</td><td>0.750</td><td>1.250</td></tr><tr><td>firm2</td><td>0.500</td><td>-2.750</td><td>1.250</td></tr><tr><td>firm3</td><td>0.500</td><td>0.750</td><td>-2.250</td></tr></table>"
      ],
      "text/plain": [
       "[['elast.', 'firm1', 'firm2', 'firm3'],\n",
       " ['firm1', '-3.000', '0.750', '1.250'],\n",
       " ['firm2', '0.500', '-2.750', '1.250'],\n",
       " ['firm3', '0.500', '0.750', '-2.250']]"
      ]
     },
     "execution_count": 255,
     "metadata": {},
     "output_type": "execute_result"
    }
   ],
   "source": [
    "table = ListTable()\n",
    "table.append(['elast.', 'firm1','firm2','firm3'])\n",
    "for one_firm in firms:\n",
    "    row = []\n",
    "    row.append(one_firm)\n",
    "    for other_firm in firms:\n",
    "        row.append(\"%0.3f\" % elasticity[one_firm,other_firm])\n",
    "    table.append(row)\n",
    "print (\"table of elasticities:\")\n",
    "table"
   ]
  },
  {
   "cell_type": "code",
   "execution_count": 256,
   "metadata": {
    "collapsed": true
   },
   "outputs": [],
   "source": [
    "margin = {}\n",
    "for firm in firms:\n",
    "    margin[firm] = -1.0/elasticity[firm,firm]\n",
    "\n",
    "    \n",
    "merging_firms = ['firm1','firm2']                      # list of the merging firms\n",
    "nonmerging_firms = list(set(firms)-set(merging_firms)) # list of non-merging firms\n",
    "efficiency_gains = {} # dictionary with efficiency gains --due to the merger-- for the firms\n",
    "for firm in merging_firms:\n",
    "    efficiency_gains[firm] = 0.0\n",
    "for firm in nonmerging_firms:\n",
    "    efficiency_gains[firm] = 0.0"
   ]
  },
  {
   "cell_type": "code",
   "execution_count": 171,
   "metadata": {},
   "outputs": [],
   "source": [
    "post_marketshare = {}\n",
    "post_elasticity = {}\n",
    "post_margin = {}\n",
    "price_change = {}\n",
    "\n",
    "def vector_function(post_marketshare,post_elasticity,post_margin,price_change):\n",
    "    equations = []\n",
    "    for firm in sorted(firms):\n",
    "        equations.append(post_marketshare[firm]-(market_share[firm]+sum([b[firm,other_firm]*log(1+price_change[other_firm]) for other_firm in firms])))\n",
    "        equations.append(post_margin[firm] - (1-(1+efficiency_gains[firm])/(1+price_change[firm])*(1-margin[firm])))\n",
    "    for firm in sorted(nonmerging_firms):\n",
    "        equations.append(post_margin[firm] + 1/post_elasticity[firm,firm])\n",
    "        equations.append(post_elasticity[firm,firm] - (-1 + b[firm,firm]/post_marketshare[firm]+post_marketshare[firm]*(market_elasticity+1)))\n",
    "    for firm in sorted(merging_firms):\n",
    "        equations.append(post_marketshare[firm]+sum(post_elasticity[other_firm,firm]*post_marketshare[other_firm]*post_margin[other_firm] for other_firm in sorted(merging_firms)))\n",
    "        for other_firm in sorted(merging_firms):\n",
    "            equations.append(post_elasticity[firm,other_firm] - (-(firm==other_firm) + b[firm,other_firm]/post_marketshare[firm]+post_marketshare[other_firm]*(market_elasticity+1)))\n",
    "    return equations"
   ]
  },
  {
   "cell_type": "code",
   "execution_count": 257,
   "metadata": {
    "collapsed": true
   },
   "outputs": [],
   "source": [
    "def wrapper_function(x): # the solver used below needs a vector x as input, not a collection of dictionaries\n",
    "    counter = 0\n",
    "    for dict in [post_marketshare,post_margin,price_change]:\n",
    "        for firm in sorted(firms):\n",
    "            dict[firm] = x[counter]\n",
    "            counter +=1\n",
    "    for firm in sorted(nonmerging_firms):\n",
    "        post_elasticity[firm, firm] = x[counter]\n",
    "        counter +=1\n",
    "    for firm in sorted(merging_firms):\n",
    "        for other_firm in sorted(merging_firms):\n",
    "            post_elasticity[firm, other_firm] = x[counter]\n",
    "            counter +=1\n",
    "    return vector_function(post_marketshare,post_elasticity,post_margin,price_change)\n",
    "\n",
    "def unwrap(x):   # once we have the equilibrium solution as a vector x, we go back to dictionaries \n",
    "    counter = 0  # as they are easier to work with\n",
    "    for dict in [post_marketshare,post_margin,price_change]:\n",
    "        for firm in sorted(firms):\n",
    "            dict[firm] = x[counter]\n",
    "            counter +=1\n",
    "    for firm in sorted(nonmerging_firms):\n",
    "        post_elasticity[firm, firm] = x[counter]\n",
    "        counter +=1\n",
    "    for firm in sorted(merging_firms):\n",
    "        for other_firm in sorted(merging_firms):\n",
    "            post_elasticity[firm, other_firm] = x[counter]\n",
    "            counter +=1\n",
    "    return [post_marketshare,post_elasticity,post_margin,price_change]"
   ]
  },
  {
   "cell_type": "code",
   "execution_count": 258,
   "metadata": {
    "collapsed": true
   },
   "outputs": [],
   "source": [
    "def initial_value(): # initial value based on before merger values\n",
    "    x = []\n",
    "    for dict in [market_share,margin]:\n",
    "        for firm in sorted(firms):\n",
    "            x.append(dict[firm])\n",
    "    for firm in sorted(firms):\n",
    "        x.append(0.0) # price change\n",
    "    for firm in sorted(nonmerging_firms):\n",
    "        x.append(elasticity[firm, firm])\n",
    "    for firm in sorted(merging_firms):\n",
    "        for other_firm in sorted(merging_firms):\n",
    "            x.append(elasticity[firm, other_firm])\n",
    "    return x"
   ]
  },
  {
   "cell_type": "code",
   "execution_count": 259,
   "metadata": {},
   "outputs": [],
   "source": [
    "def after_merger_values():\n",
    "    outcome = unwrap(optimize.fsolve(wrapper_function, initial_value()))\n",
    "    table = ListTable()\n",
    "    table.append(['firm', 'marketshare','margin','price increase'])\n",
    "    for firm in firms:\n",
    "        table.append([firm, \"%0.3f\" % outcome[0][firm],\"%0.3f\" % outcome[2][firm],\"%0.3f\" % outcome[3][firm]])\n",
    "    print (\"table of post merger outcomes:\")\n",
    "    return table"
   ]
  },
  {
   "cell_type": "code",
   "execution_count": 260,
   "metadata": {},
   "outputs": [
    {
     "name": "stdout",
     "output_type": "stream",
     "text": [
      "table of post merger outcomes:\n"
     ]
    },
    {
     "data": {
      "text/html": [
       "<table><tr><td>firm</td><td>marketshare</td><td>margin</td><td>price increase</td></tr><tr><td>firm1</td><td>0.174</td><td>0.414</td><td>0.138</td></tr><tr><td>firm2</td><td>0.281</td><td>0.425</td><td>0.108</td></tr><tr><td>firm3</td><td>0.546</td><td>0.466</td><td>0.041</td></tr></table>"
      ],
      "text/plain": [
       "[['firm', 'marketshare', 'margin', 'price increase'],\n",
       " ['firm1', '0.174', '0.414', '0.138'],\n",
       " ['firm2', '0.281', '0.425', '0.108'],\n",
       " ['firm3', '0.546', '0.466', '0.041']]"
      ]
     },
     "execution_count": 260,
     "metadata": {},
     "output_type": "execute_result"
    }
   ],
   "source": [
    "after_merger_values()"
   ]
  },
  {
   "cell_type": "code",
   "execution_count": 130,
   "metadata": {},
   "outputs": [
    {
     "ename": "NameError",
     "evalue": "name 'margin' is not defined",
     "output_type": "error",
     "traceback": [
      "\u001b[0;31m---------------------------------------------------------------------------\u001b[0m",
      "\u001b[0;31mNameError\u001b[0m                                 Traceback (most recent call last)",
      "\u001b[0;32m<ipython-input-130-78b7ce437886>\u001b[0m in \u001b[0;36m<module>\u001b[0;34m()\u001b[0m\n\u001b[0;32m----> 1\u001b[0;31m \u001b[0mmargin\u001b[0m\u001b[0;34m\u001b[0m\u001b[0m\n\u001b[0m",
      "\u001b[0;31mNameError\u001b[0m: name 'margin' is not defined"
     ]
    }
   ],
   "source": [
    "margin"
   ]
  },
  {
   "cell_type": "code",
   "execution_count": 169,
   "metadata": {},
   "outputs": [
    {
     "ename": "SyntaxError",
     "evalue": "invalid syntax (<ipython-input-169-1bd46d7bb980>, line 1)",
     "output_type": "error",
     "traceback": [
      "\u001b[0;36m  File \u001b[0;32m\"<ipython-input-169-1bd46d7bb980>\"\u001b[0;36m, line \u001b[0;32m1\u001b[0m\n\u001b[0;31m    print(\"margin\" margin)\u001b[0m\n\u001b[0m                        ^\u001b[0m\n\u001b[0;31mSyntaxError\u001b[0m\u001b[0;31m:\u001b[0m invalid syntax\n"
     ]
    }
   ],
   "source": [
    "print(\"margin\" margin)"
   ]
  },
  {
   "cell_type": "code",
   "execution_count": 165,
   "metadata": {},
   "outputs": [
    {
     "name": "stdout",
     "output_type": "stream",
     "text": [
      "table of post merger outcomes:\n"
     ]
    }
   ],
   "source": [
    " print (\"table of post merger outcomes:\")"
   ]
  },
  {
   "cell_type": "code",
   "execution_count": 147,
   "metadata": {},
   "outputs": [
    {
     "ename": "NameError",
     "evalue": "name 'outcome' is not defined",
     "output_type": "error",
     "traceback": [
      "\u001b[0;31m---------------------------------------------------------------------------\u001b[0m",
      "\u001b[0;31mNameError\u001b[0m                                 Traceback (most recent call last)",
      "\u001b[0;32m<ipython-input-147-2934bd56bf88>\u001b[0m in \u001b[0;36m<module>\u001b[0;34m()\u001b[0m\n\u001b[0;32m----> 1\u001b[0;31m \u001b[0mtable\u001b[0m\u001b[0;34m.\u001b[0m\u001b[0mappend\u001b[0m\u001b[0;34m(\u001b[0m\u001b[0;34m[\u001b[0m\u001b[0mfirm\u001b[0m\u001b[0;34m,\u001b[0m \u001b[0;34m\"%0.3f\"\u001b[0m \u001b[0;34m%\u001b[0m \u001b[0moutcome\u001b[0m\u001b[0;34m[\u001b[0m\u001b[0;36m0\u001b[0m\u001b[0;34m]\u001b[0m\u001b[0;34m[\u001b[0m\u001b[0mfirm\u001b[0m\u001b[0;34m]\u001b[0m\u001b[0;34m,\u001b[0m\u001b[0;34m\"%0.3f\"\u001b[0m \u001b[0;34m%\u001b[0m \u001b[0moutcome\u001b[0m\u001b[0;34m[\u001b[0m\u001b[0;36m2\u001b[0m\u001b[0;34m]\u001b[0m\u001b[0;34m[\u001b[0m\u001b[0mfirm\u001b[0m\u001b[0;34m]\u001b[0m\u001b[0;34m,\u001b[0m\u001b[0;34m\"%0.3f\"\u001b[0m \u001b[0;34m%\u001b[0m \u001b[0moutcome\u001b[0m\u001b[0;34m[\u001b[0m\u001b[0;36m3\u001b[0m\u001b[0;34m]\u001b[0m\u001b[0;34m[\u001b[0m\u001b[0mfirm\u001b[0m\u001b[0;34m]\u001b[0m\u001b[0;34m]\u001b[0m\u001b[0;34m)\u001b[0m\u001b[0;34m\u001b[0m\u001b[0m\n\u001b[0m",
      "\u001b[0;31mNameError\u001b[0m: name 'outcome' is not defined"
     ]
    }
   ],
   "source": [
    "table.append([firm, \"%0.3f\" % outcome[0][firm],\"%0.3f\" % outcome[2][firm],\"%0.3f\" % outcome[3][firm]])"
   ]
  },
  {
   "cell_type": "code",
   "execution_count": 151,
   "metadata": {},
   "outputs": [
    {
     "ename": "SyntaxError",
     "evalue": "invalid syntax (<ipython-input-151-f793b7dc6d8d>, line 1)",
     "output_type": "error",
     "traceback": [
      "\u001b[0;36m  File \u001b[0;32m\"<ipython-input-151-f793b7dc6d8d>\"\u001b[0;36m, line \u001b[0;32m1\u001b[0m\n\u001b[0;31m    conda update anaconda3\u001b[0m\n\u001b[0m               ^\u001b[0m\n\u001b[0;31mSyntaxError\u001b[0m\u001b[0;31m:\u001b[0m invalid syntax\n"
     ]
    }
   ],
   "source": [
    "conda update anaconda3"
   ]
  },
  {
   "cell_type": "code",
   "execution_count": 155,
   "metadata": {},
   "outputs": [
    {
     "ename": "KeyError",
     "evalue": "('firm2', 'firm2')",
     "output_type": "error",
     "traceback": [
      "\u001b[0;31m---------------------------------------------------------------------------\u001b[0m",
      "\u001b[0;31mKeyError\u001b[0m                                  Traceback (most recent call last)",
      "\u001b[0;32m<ipython-input-155-86c1f3b94015>\u001b[0m in \u001b[0;36m<module>\u001b[0;34m()\u001b[0m\n\u001b[1;32m      1\u001b[0m \u001b[0mmargin\u001b[0m \u001b[0;34m=\u001b[0m \u001b[0;34m{\u001b[0m\u001b[0;34m}\u001b[0m\u001b[0;34m\u001b[0m\u001b[0m\n\u001b[1;32m      2\u001b[0m \u001b[0;32mfor\u001b[0m \u001b[0mfirm\u001b[0m \u001b[0;32min\u001b[0m \u001b[0mfirms\u001b[0m\u001b[0;34m:\u001b[0m\u001b[0;34m\u001b[0m\u001b[0m\n\u001b[0;32m----> 3\u001b[0;31m     \u001b[0mmargin\u001b[0m\u001b[0;34m[\u001b[0m\u001b[0mfirm\u001b[0m\u001b[0;34m]\u001b[0m \u001b[0;34m=\u001b[0m \u001b[0;34m-\u001b[0m\u001b[0;36m1.0\u001b[0m\u001b[0;34m/\u001b[0m\u001b[0melasticity\u001b[0m\u001b[0;34m[\u001b[0m\u001b[0mfirm\u001b[0m\u001b[0;34m,\u001b[0m\u001b[0mfirm\u001b[0m\u001b[0;34m]\u001b[0m\u001b[0;34m\u001b[0m\u001b[0m\n\u001b[0m",
      "\u001b[0;31mKeyError\u001b[0m: ('firm2', 'firm2')"
     ]
    }
   ],
   "source": [
    "margin = {}\n",
    "for firm in firms:\n",
    "    margin[firm] = -1.0/elasticity[firm,firm]"
   ]
  },
  {
   "cell_type": "code",
   "execution_count": null,
   "metadata": {
    "collapsed": true
   },
   "outputs": [],
   "source": []
  }
 ],
 "metadata": {
  "kernelspec": {
   "display_name": "Python 3",
   "language": "python",
   "name": "python3"
  },
  "language_info": {
   "codemirror_mode": {
    "name": "ipython",
    "version": 3
   },
   "file_extension": ".py",
   "mimetype": "text/x-python",
   "name": "python",
   "nbconvert_exporter": "python",
   "pygments_lexer": "ipython3",
   "version": "3.6.3"
  }
 },
 "nbformat": 4,
 "nbformat_minor": 2
}
